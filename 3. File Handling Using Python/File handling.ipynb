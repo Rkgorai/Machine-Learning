{
 "cells": [
  {
   "cell_type": "markdown",
   "id": "18e7051b",
   "metadata": {},
   "source": [
    "# 1. Text Files"
   ]
  },
  {
   "cell_type": "code",
   "execution_count": null,
   "id": "723d397c",
   "metadata": {},
   "outputs": [],
   "source": []
  },
  {
   "cell_type": "markdown",
   "id": "7a8dd21d",
   "metadata": {},
   "source": [
    "### Opening a File"
   ]
  },
  {
   "cell_type": "code",
   "execution_count": 5,
   "id": "21d6f0cb",
   "metadata": {},
   "outputs": [],
   "source": [
    "file = open(\"hello.txt\", \"r\")"
   ]
  },
  {
   "cell_type": "code",
   "execution_count": 6,
   "id": "f908e71c",
   "metadata": {},
   "outputs": [
    {
     "data": {
      "text/plain": [
       "'Hello'"
      ]
     },
     "execution_count": 6,
     "metadata": {},
     "output_type": "execute_result"
    }
   ],
   "source": [
    "file.read(5)"
   ]
  },
  {
   "cell_type": "markdown",
   "id": "bdb1ed7b",
   "metadata": {},
   "source": [
    "### Closing a File"
   ]
  },
  {
   "cell_type": "code",
   "execution_count": 7,
   "id": "f5573f59",
   "metadata": {},
   "outputs": [],
   "source": [
    "file.close()"
   ]
  },
  {
   "cell_type": "code",
   "execution_count": null,
   "id": "b998bd12",
   "metadata": {},
   "outputs": [],
   "source": []
  },
  {
   "cell_type": "code",
   "execution_count": null,
   "id": "81cc205a",
   "metadata": {},
   "outputs": [],
   "source": []
  },
  {
   "cell_type": "markdown",
   "id": "27547bfc",
   "metadata": {},
   "source": [
    "### Writing to a File\n",
    "\n",
    "\n",
    "- Write\n",
    "- Writelines"
   ]
  },
  {
   "cell_type": "code",
   "execution_count": 8,
   "id": "4e5b5e8f",
   "metadata": {},
   "outputs": [],
   "source": [
    "file = open(\"something.txt\", \"w\")"
   ]
  },
  {
   "cell_type": "code",
   "execution_count": 9,
   "id": "fe46a265",
   "metadata": {},
   "outputs": [
    {
     "data": {
      "text/plain": [
       "22"
      ]
     },
     "execution_count": 9,
     "metadata": {},
     "output_type": "execute_result"
    }
   ],
   "source": [
    "file.write(\"Hello From other Side.\")"
   ]
  },
  {
   "cell_type": "code",
   "execution_count": 10,
   "id": "58699620",
   "metadata": {},
   "outputs": [],
   "source": [
    "file.close()"
   ]
  },
  {
   "cell_type": "code",
   "execution_count": null,
   "id": "73e150a6",
   "metadata": {},
   "outputs": [],
   "source": []
  },
  {
   "cell_type": "code",
   "execution_count": null,
   "id": "2ab46ca9",
   "metadata": {},
   "outputs": [],
   "source": []
  },
  {
   "cell_type": "markdown",
   "id": "739f2cc1",
   "metadata": {},
   "source": [
    "### Reading from a File\n",
    "\n",
    "- Read\n",
    "- Readline\n",
    "- Readlines"
   ]
  },
  {
   "cell_type": "code",
   "execution_count": 27,
   "id": "b9764aa3",
   "metadata": {},
   "outputs": [],
   "source": [
    "file = open(\"hello.txt\", \"r\")"
   ]
  },
  {
   "cell_type": "code",
   "execution_count": 28,
   "id": "4e1b8e52",
   "metadata": {},
   "outputs": [
    {
     "data": {
      "text/plain": [
       "['Hello\\n', 'Hello Again\\n', 'Hello yet again']"
      ]
     },
     "execution_count": 28,
     "metadata": {},
     "output_type": "execute_result"
    }
   ],
   "source": [
    "file.readlines()"
   ]
  },
  {
   "cell_type": "code",
   "execution_count": 29,
   "id": "9d6d011e",
   "metadata": {},
   "outputs": [],
   "source": [
    "file.close()"
   ]
  },
  {
   "cell_type": "code",
   "execution_count": null,
   "id": "f4616405",
   "metadata": {},
   "outputs": [],
   "source": []
  },
  {
   "cell_type": "markdown",
   "id": "24bd7361",
   "metadata": {},
   "source": [
    "### Moving the Cursor\n",
    "\n",
    "- seek(n) : takes the file handle to the nth byte from the beginning"
   ]
  },
  {
   "cell_type": "code",
   "execution_count": 30,
   "id": "acd28ba9",
   "metadata": {},
   "outputs": [],
   "source": [
    "file = open(\"hello.txt\", \"r\")"
   ]
  },
  {
   "cell_type": "code",
   "execution_count": 31,
   "id": "be50e606",
   "metadata": {},
   "outputs": [
    {
     "data": {
      "text/plain": [
       "'Hell'"
      ]
     },
     "execution_count": 31,
     "metadata": {},
     "output_type": "execute_result"
    }
   ],
   "source": [
    "file.read(4)"
   ]
  },
  {
   "cell_type": "code",
   "execution_count": 32,
   "id": "5eff0447",
   "metadata": {},
   "outputs": [
    {
     "data": {
      "text/plain": [
       "'o\\nHello Again\\nHello yet again'"
      ]
     },
     "execution_count": 32,
     "metadata": {},
     "output_type": "execute_result"
    }
   ],
   "source": [
    "file.read()"
   ]
  },
  {
   "cell_type": "code",
   "execution_count": 33,
   "id": "38ccc9b0",
   "metadata": {},
   "outputs": [
    {
     "data": {
      "text/plain": [
       "''"
      ]
     },
     "execution_count": 33,
     "metadata": {},
     "output_type": "execute_result"
    }
   ],
   "source": [
    "file.read()"
   ]
  },
  {
   "cell_type": "code",
   "execution_count": 34,
   "id": "da80a441",
   "metadata": {},
   "outputs": [
    {
     "data": {
      "text/plain": [
       "0"
      ]
     },
     "execution_count": 34,
     "metadata": {},
     "output_type": "execute_result"
    }
   ],
   "source": [
    "file.seek(0)"
   ]
  },
  {
   "cell_type": "code",
   "execution_count": 35,
   "id": "f1839f6c",
   "metadata": {},
   "outputs": [
    {
     "data": {
      "text/plain": [
       "'Hello\\nHello Again\\nHello yet again'"
      ]
     },
     "execution_count": 35,
     "metadata": {},
     "output_type": "execute_result"
    }
   ],
   "source": [
    "file.read()"
   ]
  },
  {
   "cell_type": "code",
   "execution_count": 36,
   "id": "08f8b2a7",
   "metadata": {},
   "outputs": [
    {
     "data": {
      "text/plain": [
       "8"
      ]
     },
     "execution_count": 36,
     "metadata": {},
     "output_type": "execute_result"
    }
   ],
   "source": [
    "file.seek(8)"
   ]
  },
  {
   "cell_type": "code",
   "execution_count": 37,
   "id": "88e17813",
   "metadata": {},
   "outputs": [
    {
     "data": {
      "text/plain": [
       "'llo Again\\nHello yet again'"
      ]
     },
     "execution_count": 37,
     "metadata": {},
     "output_type": "execute_result"
    }
   ],
   "source": [
    "file.read()"
   ]
  },
  {
   "cell_type": "code",
   "execution_count": 38,
   "id": "d2eb05ce",
   "metadata": {},
   "outputs": [],
   "source": [
    "file.close()"
   ]
  },
  {
   "cell_type": "code",
   "execution_count": null,
   "id": "e9d49f4b",
   "metadata": {},
   "outputs": [],
   "source": []
  },
  {
   "cell_type": "code",
   "execution_count": null,
   "id": "529bc423",
   "metadata": {},
   "outputs": [],
   "source": []
  },
  {
   "cell_type": "markdown",
   "id": "1cc36e38",
   "metadata": {},
   "source": [
    "### Smarter way of opening files\n",
    "\n",
    "using \"with\" statement"
   ]
  },
  {
   "cell_type": "code",
   "execution_count": 39,
   "id": "c25f6f87",
   "metadata": {},
   "outputs": [
    {
     "name": "stdout",
     "output_type": "stream",
     "text": [
      "Hello\n",
      "Hello Again\n",
      "Hello yet again\n",
      "\n",
      "Hello Again\n",
      "Hello yet again\n"
     ]
    }
   ],
   "source": [
    "with open(\"hello.txt\", \"r\") as file:\n",
    "    print(file.read())\n",
    "    file.seek(5)\n",
    "    print(file.read())"
   ]
  },
  {
   "cell_type": "code",
   "execution_count": null,
   "id": "3433a18d",
   "metadata": {},
   "outputs": [],
   "source": []
  },
  {
   "cell_type": "code",
   "execution_count": null,
   "id": "d3f07595",
   "metadata": {},
   "outputs": [],
   "source": []
  },
  {
   "cell_type": "code",
   "execution_count": null,
   "id": "9633c5df",
   "metadata": {},
   "outputs": [],
   "source": []
  },
  {
   "cell_type": "markdown",
   "id": "39fb83d4",
   "metadata": {},
   "source": [
    "# 2. JSON Files"
   ]
  },
  {
   "cell_type": "code",
   "execution_count": 41,
   "id": "9480c5ea",
   "metadata": {},
   "outputs": [],
   "source": [
    "import json"
   ]
  },
  {
   "cell_type": "code",
   "execution_count": 44,
   "id": "6562ec5f",
   "metadata": {},
   "outputs": [
    {
     "name": "stdout",
     "output_type": "stream",
     "text": [
      "rahul\n",
      "90\n"
     ]
    }
   ],
   "source": [
    "with open(\"data.json\", \"r\") as file:\n",
    "    d = json.load(file)\n",
    "    print(d['name'])\n",
    "    print(d['marks'])"
   ]
  },
  {
   "cell_type": "code",
   "execution_count": 45,
   "id": "43deef83",
   "metadata": {},
   "outputs": [
    {
     "name": "stdout",
     "output_type": "stream",
     "text": [
      "{\n",
      "    \"name\" : \"rahul\",\n",
      "    \"marks\" : 90,\n",
      "    \"subjects\" : [\"eng,\", \"maths\", \"sci\"],\n",
      "    \"friends\" : {\n",
      "        \"pulkit\" : \"android\"\n",
      "    }\n",
      "}\n",
      "{'name': 'rahul', 'marks': 90, 'subjects': ['eng,', 'maths', 'sci'], 'friends': {'pulkit': 'android'}}\n"
     ]
    }
   ],
   "source": [
    "with open(\"data.json\", \"r\") as file:\n",
    "    data = file.read()\n",
    "    print(data)\n",
    "    # convert data json into dict\n",
    "    d = json.loads(data)\n",
    "    print(d)"
   ]
  },
  {
   "cell_type": "code",
   "execution_count": 47,
   "id": "f75a3412",
   "metadata": {},
   "outputs": [],
   "source": [
    "d = {'name': 'rowdy', 'marks': 90, 'subjects': ['eng,', 'maths', 'sci']}"
   ]
  },
  {
   "cell_type": "code",
   "execution_count": 48,
   "id": "515cdf00",
   "metadata": {},
   "outputs": [
    {
     "data": {
      "text/plain": [
       "{'name': 'rowdy', 'marks': 90, 'subjects': ['eng,', 'maths', 'sci']}"
      ]
     },
     "execution_count": 48,
     "metadata": {},
     "output_type": "execute_result"
    }
   ],
   "source": [
    "d"
   ]
  },
  {
   "cell_type": "code",
   "execution_count": 50,
   "id": "70a48959",
   "metadata": {},
   "outputs": [],
   "source": [
    "string = json.dumps(d)\n",
    "#converting a dict into json string"
   ]
  },
  {
   "cell_type": "code",
   "execution_count": 51,
   "id": "ce7ab27d",
   "metadata": {},
   "outputs": [
    {
     "name": "stdout",
     "output_type": "stream",
     "text": [
      "{\"name\": \"rowdy\", \"marks\": 90, \"subjects\": [\"eng,\", \"maths\", \"sci\"]}\n"
     ]
    }
   ],
   "source": [
    "print(string)"
   ]
  },
  {
   "cell_type": "code",
   "execution_count": 52,
   "id": "28280d03",
   "metadata": {},
   "outputs": [],
   "source": [
    "#writing it into the txt\n",
    "with open(\"data2.json\", \"w\") as file:\n",
    "    json.dump(d, file)"
   ]
  },
  {
   "cell_type": "code",
   "execution_count": null,
   "id": "ed0cdb9e",
   "metadata": {},
   "outputs": [],
   "source": []
  }
 ],
 "metadata": {
  "kernelspec": {
   "display_name": "Python 3",
   "language": "python",
   "name": "python3"
  },
  "language_info": {
   "codemirror_mode": {
    "name": "ipython",
    "version": 3
   },
   "file_extension": ".py",
   "mimetype": "text/x-python",
   "name": "python",
   "nbconvert_exporter": "python",
   "pygments_lexer": "ipython3",
   "version": "3.9.2"
  }
 },
 "nbformat": 4,
 "nbformat_minor": 5
}
