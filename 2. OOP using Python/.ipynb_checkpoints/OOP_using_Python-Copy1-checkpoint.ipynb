{
 "cells": [
  {
   "cell_type": "markdown",
   "id": "e2e7ccb7",
   "metadata": {},
   "source": [
    "# Oop Using Python"
   ]
  },
  {
   "cell_type": "code",
   "execution_count": null,
   "id": "1702a760",
   "metadata": {},
   "outputs": [],
   "source": []
  },
  {
   "cell_type": "markdown",
   "id": "37d75f05",
   "metadata": {},
   "source": [
    "A minimal example of a class"
   ]
  },
  {
   "cell_type": "code",
   "execution_count": 2,
   "id": "ade0391a",
   "metadata": {},
   "outputs": [
    {
     "name": "stdout",
     "output_type": "stream",
     "text": [
      "<__main__.Person object at 0x000002544DA5BD60>\n"
     ]
    }
   ],
   "source": [
    "class Person:\n",
    "    pass\n",
    "\n",
    "p = Person()\n",
    "print(p)"
   ]
  },
  {
   "cell_type": "code",
   "execution_count": 4,
   "id": "123316b3",
   "metadata": {},
   "outputs": [
    {
     "data": {
      "text/plain": [
       "'0x2544da5bd60'"
      ]
     },
     "execution_count": 4,
     "metadata": {},
     "output_type": "execute_result"
    }
   ],
   "source": [
    "hex(id(p))"
   ]
  },
  {
   "cell_type": "markdown",
   "id": "8a2f1c38",
   "metadata": {},
   "source": [
    "#### Methods in python"
   ]
  },
  {
   "cell_type": "code",
   "execution_count": 10,
   "id": "54e329aa",
   "metadata": {},
   "outputs": [
    {
     "name": "stdout",
     "output_type": "stream",
     "text": [
      "How are you Jatin?\n",
      "How are you Jatin?\n"
     ]
    }
   ],
   "source": [
    "class Person:\n",
    "    def say_hi(self):\n",
    "        self.name = 'Jatin'\n",
    "        print(\"How are you \" + self.name + \"?\")\n",
    "        \n",
    "p = Person()\n",
    "p.say_hi()\n",
    "Person.say_hi(p)"
   ]
  },
  {
   "cell_type": "markdown",
   "id": "13184e0b",
   "metadata": {},
   "source": [
    "#### The  __init__ method"
   ]
  },
  {
   "cell_type": "code",
   "execution_count": 13,
   "id": "41e91696",
   "metadata": {},
   "outputs": [
    {
     "name": "stdout",
     "output_type": "stream",
     "text": [
      "new object created\n",
      "How are you Jatin?\n",
      "How are you Jatin?\n"
     ]
    }
   ],
   "source": [
    "class Person():\n",
    "    name = 'Jatin'\n",
    "    #not a constructor\n",
    "    def __init__(self):\n",
    "        print(\"new object created\")\n",
    "        \n",
    "    def say_hi(self):\n",
    "        print(\"How are you \" + self.name + \"?\")\n",
    "        \n",
    "p = Person()\n",
    "p.say_hi()\n",
    "Person.say_hi(p)"
   ]
  },
  {
   "cell_type": "markdown",
   "id": "323978ab",
   "metadata": {},
   "source": [
    "Accepting arguments in __init__ method"
   ]
  },
  {
   "cell_type": "code",
   "execution_count": 15,
   "id": "91aa2986",
   "metadata": {},
   "outputs": [
    {
     "name": "stdout",
     "output_type": "stream",
     "text": [
      "How are you rowdy?\n",
      "How are you rowdy?\n"
     ]
    }
   ],
   "source": [
    "class Person():\n",
    "    #not a constructor\n",
    "    def __init__(self, name):\n",
    "        self.name = name\n",
    "        \n",
    "    def say_hi(self):\n",
    "        print(\"How are you \" + self.name + \"?\")\n",
    "        \n",
    "p = Person(\"rowdy\")\n",
    "p.say_hi()\n",
    "Person.say_hi(p)"
   ]
  },
  {
   "cell_type": "code",
   "execution_count": null,
   "id": "69fa4268",
   "metadata": {},
   "outputs": [],
   "source": []
  },
  {
   "cell_type": "markdown",
   "id": "fc8bf8f7",
   "metadata": {},
   "source": [
    "## Dunders or Magic Functions"
   ]
  },
  {
   "cell_type": "markdown",
   "id": "6999e82e",
   "metadata": {},
   "source": [
    "Lifecycle of the object:\n",
    "    - Created\n",
    "    - Deleted\n",
    "    - String\n",
    "    - add\n",
    "    - subtract"
   ]
  },
  {
   "cell_type": "code",
   "execution_count": null,
   "id": "1cf72601",
   "metadata": {},
   "outputs": [],
   "source": []
  },
  {
   "cell_type": "code",
   "execution_count": 1,
   "id": "dd18bf2e",
   "metadata": {},
   "outputs": [],
   "source": [
    "class Car:\n",
    "    def __init__(self, model, mileage):\n",
    "        self.mileage = mileage\n",
    "        self.model = model\n",
    "        \n",
    "    def __str__(self):\n",
    "        return \"{} + {}\".format(self.model, self.mileage)\n",
    "    \n",
    "    def __repr__(self):\n",
    "        return \"{}\".format(self.model)\n",
    "    \n",
    "    def __eq__(self, other):\n",
    "        return self.mileage == other.mileage\n",
    "    \n",
    "    def __add__(self, other):\n",
    "        return self.mileage + other.mileage"
   ]
  },
  {
   "cell_type": "code",
   "execution_count": 2,
   "id": "9eaa6a49",
   "metadata": {},
   "outputs": [],
   "source": [
    "c1 = Car('a', 2)\n",
    "c2 = Car('b', 2)"
   ]
  },
  {
   "cell_type": "code",
   "execution_count": 3,
   "id": "9b0777c4",
   "metadata": {},
   "outputs": [
    {
     "data": {
      "text/plain": [
       "4"
      ]
     },
     "execution_count": 3,
     "metadata": {},
     "output_type": "execute_result"
    }
   ],
   "source": [
    "c1 + c2"
   ]
  },
  {
   "cell_type": "code",
   "execution_count": 4,
   "id": "815c1b7d",
   "metadata": {},
   "outputs": [
    {
     "data": {
      "text/plain": [
       "True"
      ]
     },
     "execution_count": 4,
     "metadata": {},
     "output_type": "execute_result"
    }
   ],
   "source": [
    "c1 == c2"
   ]
  },
  {
   "cell_type": "code",
   "execution_count": 6,
   "id": "96fbc4f1",
   "metadata": {},
   "outputs": [
    {
     "data": {
      "text/plain": [
       "'a'"
      ]
     },
     "execution_count": 6,
     "metadata": {},
     "output_type": "execute_result"
    }
   ],
   "source": [
    "c1.model"
   ]
  },
  {
   "cell_type": "code",
   "execution_count": null,
   "id": "09d43947",
   "metadata": {},
   "outputs": [],
   "source": []
  },
  {
   "cell_type": "code",
   "execution_count": 7,
   "id": "a32b985b",
   "metadata": {},
   "outputs": [],
   "source": [
    "class Ostream():\n",
    "    def __lshift__(self, other):\n",
    "        print(other, end = \"\")\n",
    "        return self\n",
    "    \n",
    "cout = Ostream()"
   ]
  },
  {
   "cell_type": "code",
   "execution_count": 8,
   "id": "d8abe9c5",
   "metadata": {},
   "outputs": [
    {
     "name": "stdout",
     "output_type": "stream",
     "text": [
      "Rahul"
     ]
    },
    {
     "data": {
      "text/plain": [
       "<__main__.Ostream at 0x292ea27e280>"
      ]
     },
     "execution_count": 8,
     "metadata": {},
     "output_type": "execute_result"
    }
   ],
   "source": [
    "cout<< \"Rahul\""
   ]
  },
  {
   "cell_type": "code",
   "execution_count": null,
   "id": "8e0a7370",
   "metadata": {},
   "outputs": [],
   "source": []
  },
  {
   "cell_type": "markdown",
   "id": "c87c73cc",
   "metadata": {},
   "source": [
    "## Inheritence"
   ]
  },
  {
   "cell_type": "code",
   "execution_count": null,
   "id": "5670a059",
   "metadata": {},
   "outputs": [],
   "source": []
  },
  {
   "cell_type": "code",
   "execution_count": 14,
   "id": "2535d671",
   "metadata": {},
   "outputs": [
    {
     "name": "stdout",
     "output_type": "stream",
     "text": [
      "(Initialized School member : Mr Ujjwal)\n",
      "(Initialized Teacher : Mr Ujjwal)\n",
      "(Initialized School member : Nikhil)\n",
      "(Initialized Student : Nikhil)\n"
     ]
    }
   ],
   "source": [
    "class SchoolMember:\n",
    "    #Represent any School Member\n",
    "    def __init__(self, name, age):\n",
    "        self.name = name\n",
    "        self.age = age\n",
    "        print('(Initialized School member : {})'.format(self.name))\n",
    "        \n",
    "    def tell(self):\n",
    "        # Tell My details\n",
    "        print('Name : \"{}\" , Age : \"{}\" '.format(self.name, self.age), end=\" \")\n",
    "    \n",
    "class Teacher(SchoolMember):\n",
    "    #Represent a Teacher\n",
    "    def __init__(self, name, age, salary):\n",
    "        SchoolMember.__init__(self, name, age)\n",
    "        self.salary = salary\n",
    "        print('(Initialized Teacher : {})'.format(self.name))\n",
    "        \n",
    "    def tell(self):\n",
    "        SchoolMember.tell(self)\n",
    "        print('Salary: \"{:d}\"'.format(self.salary))\n",
    "        \n",
    "class Student(SchoolMember):\n",
    "    # Represent a Student\n",
    "    \n",
    "    def __init__(self, name, age, marks):\n",
    "        SchoolMember.__init__(self, name, age)\n",
    "        self.marks = marks\n",
    "        print('(Initialized Student : {})'.format(self.name))\n",
    "        \n",
    "    def tell(self):\n",
    "        SchoolMember.tell(self)\n",
    "        print('Marks: \"{:d}\"'.format(self.marks))\n",
    "        \n",
    "\n",
    "t = Teacher('Mr Ujjwal', 40, 35000)\n",
    "s = Student('Nikhil', 18, 54)"
   ]
  },
  {
   "cell_type": "code",
   "execution_count": 10,
   "id": "eac3d536",
   "metadata": {},
   "outputs": [
    {
     "name": "stdout",
     "output_type": "stream",
     "text": [
      "Name : \"Mr Ujjwal\" , Age : \"40\"  Salary: \"35000\"\n"
     ]
    }
   ],
   "source": [
    "t.tell()"
   ]
  },
  {
   "cell_type": "code",
   "execution_count": 11,
   "id": "b525cc23",
   "metadata": {},
   "outputs": [
    {
     "name": "stdout",
     "output_type": "stream",
     "text": [
      "Name : \"Nikhil\" , Age : \"18\"  Marks: \"54\"\n"
     ]
    }
   ],
   "source": [
    "s.tell()"
   ]
  },
  {
   "cell_type": "markdown",
   "id": "33fb8a1c",
   "metadata": {},
   "source": [
    "The above code can also be executed using below code using 'super()' keyword"
   ]
  },
  {
   "cell_type": "code",
   "execution_count": 19,
   "id": "203993d2",
   "metadata": {},
   "outputs": [
    {
     "name": "stdout",
     "output_type": "stream",
     "text": [
      "(Initialized School member : Mr X)\n",
      "(Initialized Teacher : Mr X)\n",
      "Name : \"Mr X\" , Age : \"40\"  Salary: \"35000\"\n",
      "(Initialized School member : Nikhil)\n",
      "(Initialized Student : Nikhil)\n",
      "Name : \"Nikhil\" , Age : \"18\"  Marks: \"74\"\n"
     ]
    }
   ],
   "source": [
    "class SchoolMember:\n",
    "    #Represent any School Member\n",
    "    def __init__(self, name, age):\n",
    "        self.name = name\n",
    "        self.age = age\n",
    "        print('(Initialized School member : {})'.format(self.name))\n",
    "        \n",
    "    def tell(self):\n",
    "        # Tell My details\n",
    "        print('Name : \"{}\" , Age : \"{}\" '.format(self.name, self.age), end=\" \")\n",
    "    \n",
    "class Teacher(SchoolMember):\n",
    "    #Represent a Teacher\n",
    "    def __init__(self, name, age, salary):\n",
    "        super().__init__(name, age)\n",
    "        self.salary = salary\n",
    "        print('(Initialized Teacher : {})'.format(self.name))\n",
    "        \n",
    "    def tell(self):\n",
    "        super().tell()\n",
    "        print('Salary: \"{:d}\"'.format(self.salary))\n",
    "        \n",
    "class Student(SchoolMember):\n",
    "    # Represent a Student\n",
    "    \n",
    "    def __init__(self, name, age, marks):\n",
    "        super().__init__(name, age)\n",
    "        self.marks = marks\n",
    "        print('(Initialized Student : {})'.format(self.name))\n",
    "        \n",
    "    def tell(self):\n",
    "        super().tell()\n",
    "        print('Marks: \"{:d}\"'.format(self.marks))\n",
    "        \n",
    "\n",
    "t = Teacher('Mr X', 40, 35000)\n",
    "t.tell()\n",
    "s = Student('Nikhil', 18, 74)\n",
    "s.tell()"
   ]
  },
  {
   "cell_type": "code",
   "execution_count": null,
   "id": "de711596",
   "metadata": {},
   "outputs": [],
   "source": []
  },
  {
   "cell_type": "markdown",
   "id": "c20e64f7",
   "metadata": {},
   "source": []
  },
  {
   "cell_type": "code",
   "execution_count": null,
   "id": "23b56648",
   "metadata": {},
   "outputs": [],
   "source": []
  },
  {
   "cell_type": "code",
   "execution_count": null,
   "id": "c44aac8e",
   "metadata": {},
   "outputs": [],
   "source": []
  }
 ],
 "metadata": {
  "kernelspec": {
   "display_name": "Python 3",
   "language": "python",
   "name": "python3"
  },
  "language_info": {
   "codemirror_mode": {
    "name": "ipython",
    "version": 3
   },
   "file_extension": ".py",
   "mimetype": "text/x-python",
   "name": "python",
   "nbconvert_exporter": "python",
   "pygments_lexer": "ipython3",
   "version": "3.9.2"
  }
 },
 "nbformat": 4,
 "nbformat_minor": 5
}
