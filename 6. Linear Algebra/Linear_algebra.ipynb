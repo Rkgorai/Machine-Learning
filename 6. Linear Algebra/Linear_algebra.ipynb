{
 "cells": [
  {
   "cell_type": "markdown",
   "id": "5a43eca3",
   "metadata": {},
   "source": [
    "## 1. Scalars & Vectors"
   ]
  },
  {
   "cell_type": "code",
   "execution_count": 1,
   "id": "77a1063a",
   "metadata": {},
   "outputs": [],
   "source": [
    "# x is scalar \n",
    "x = 5"
   ]
  },
  {
   "cell_type": "code",
   "execution_count": 5,
   "id": "f520f7bf",
   "metadata": {},
   "outputs": [
    {
     "name": "stdout",
     "output_type": "stream",
     "text": [
      "[[4]\n",
      " [5]\n",
      " [6]]\n",
      "(3, 1)\n"
     ]
    }
   ],
   "source": [
    "# x is vector\n",
    "\n",
    "import numpy as np\n",
    "\n",
    "x = np.array([[4],[5],[6]])\n",
    "print(x)\n",
    "print(x.shape)"
   ]
  },
  {
   "cell_type": "markdown",
   "id": "01ef2d2b",
   "metadata": {},
   "source": [
    "## Matrix and Tensors\n",
    "\n",
    "- Tensors is an array with more than 2 axes"
   ]
  },
  {
   "cell_type": "code",
   "execution_count": 9,
   "id": "c0eb94b8",
   "metadata": {},
   "outputs": [
    {
     "name": "stdout",
     "output_type": "stream",
     "text": [
      "(3, 4)\n",
      "[[ 4  5  6  7 10 11]\n",
      " [16 18 56 80 90 41]]\n",
      "(2, 6)\n"
     ]
    }
   ],
   "source": [
    "# Matrix\n",
    "\n",
    "X = np.array([[4,5,6,7],\n",
    "              [10,11,16,18],\n",
    "              [56,80,90,41]])\n",
    "\n",
    "print(X.shape)\n",
    "\n",
    "X = X.reshape((2, -1))\n",
    "print(X)\n",
    "print(X.shape)"
   ]
  },
  {
   "cell_type": "code",
   "execution_count": 36,
   "id": "4450aa16",
   "metadata": {},
   "outputs": [
    {
     "data": {
      "text/plain": [
       "<function matplotlib.pyplot.show(close=None, block=None)>"
      ]
     },
     "execution_count": 36,
     "metadata": {},
     "output_type": "execute_result"
    },
    {
     "data": {
      "image/png": "[encoded data removed]",
      "text/plain": [
       "<Figure size 432x288 with 1 Axes>"
      ]
     },
     "metadata": {
      "needs_background": "light"
     },
     "output_type": "display_data"
    }
   ],
   "source": [
    "# Tensors\n",
    "\n",
    "T = np.zeros((50,25,3), dtype='uint8')\n",
    "\n",
    "T[ : , : ,1] = 255\n",
    "#print(T)\n",
    "\n",
    "import matplotlib.pyplot as plt\n",
    "\n",
    "plt.imshow(T)\n",
    "plt.show\n",
    "\n"
   ]
  },
  {
   "cell_type": "code",
   "execution_count": null,
   "id": "06040432",
   "metadata": {},
   "outputs": [],
   "source": []
  },
  {
   "cell_type": "markdown",
   "id": "2cf1fb4b",
   "metadata": {},
   "source": [
    "## Transpose Matrix"
   ]
  },
  {
   "cell_type": "code",
   "execution_count": 29,
   "id": "4d07c020",
   "metadata": {},
   "outputs": [
    {
     "name": "stdout",
     "output_type": "stream",
     "text": [
      "[[ 4  5  6  7 10 11]\n",
      " [16 18 56 80 90 41]]\n",
      "(2, 6)\n",
      "[[ 4 16]\n",
      " [ 5 18]\n",
      " [ 6 56]\n",
      " [ 7 80]\n",
      " [10 90]\n",
      " [11 41]]\n",
      "(6, 2)\n"
     ]
    }
   ],
   "source": [
    "print(X)\n",
    "print(X.shape)\n",
    "X1 = X.T\n",
    "\n",
    "print(X1)\n",
    "print(X1.shape)"
   ]
  },
  {
   "cell_type": "code",
   "execution_count": 39,
   "id": "b5e4995e",
   "metadata": {},
   "outputs": [
    {
     "name": "stdout",
     "output_type": "stream",
     "text": [
      "(50, 25, 3)\n",
      "(3, 50, 25)\n",
      "(3,)\n",
      "(25,)\n"
     ]
    }
   ],
   "source": [
    "# Transpose of Tensor\n",
    "\n",
    "print(T.shape)\n",
    "\n",
    "T1 = np.transpose(T,axes=(2,0,1))\n",
    "print(T1.shape)\n",
    "\n",
    "print(T[0][0].shape)\n",
    "print(T1[0][0].shape)\n"
   ]
  },
  {
   "cell_type": "code",
   "execution_count": null,
   "id": "befdb751",
   "metadata": {},
   "outputs": [],
   "source": []
  },
  {
   "cell_type": "markdown",
   "id": "834520a0",
   "metadata": {},
   "source": [
    "## Broadcasting\n",
    "\n",
    "- You can add a scalar to a vector, and numpy will add it to each element in vector\n",
    "    x+a = xi + a\n",
    "    \n",
    "- Similarly you can add a vector to a matrix and numpy will add the vector to each column of the matrix"
   ]
  },
  {
   "cell_type": "code",
   "execution_count": 2,
   "id": "44568fdd",
   "metadata": {},
   "outputs": [
    {
     "name": "stdout",
     "output_type": "stream",
     "text": [
      "[1 2 3 4]\n",
      "[5 6 7 8]\n"
     ]
    }
   ],
   "source": [
    "import numpy as np\n",
    "x = np.array([1,2,3,4])\n",
    "print(x)\n",
    "print(x+4)"
   ]
  },
  {
   "cell_type": "code",
   "execution_count": 5,
   "id": "5ba13c6c",
   "metadata": {},
   "outputs": [
    {
     "name": "stdout",
     "output_type": "stream",
     "text": [
      "[[10 20 30 40]\n",
      " [40 50 60 70]]\n",
      "[[11 22 33 44]\n",
      " [41 52 63 74]]\n"
     ]
    }
   ],
   "source": [
    "X = np.array([[10,20,30,40],\n",
    "             [40,50,60,70]])\n",
    "\n",
    "print(X)\n",
    "print(X + x)"
   ]
  },
  {
   "cell_type": "code",
   "execution_count": null,
   "id": "d7b2e7ac",
   "metadata": {},
   "outputs": [],
   "source": []
  },
  {
   "cell_type": "markdown",
   "id": "0b7dff8b",
   "metadata": {},
   "source": [
    "## Matrix Multiplication"
   ]
  },
  {
   "cell_type": "code",
   "execution_count": 7,
   "id": "675fe04f",
   "metadata": {},
   "outputs": [
    {
     "data": {
      "text/plain": [
       "array([[ 6,  6],\n",
       "       [12, 14]])"
      ]
     },
     "execution_count": 7,
     "metadata": {},
     "output_type": "execute_result"
    }
   ],
   "source": [
    "A = np.array([[1,2],\n",
    "              [3,4]])\n",
    "\n",
    "B = np.array([[0,2],\n",
    "              [3,2]])\n",
    "\n",
    "np.dot(A,B)"
   ]
  },
  {
   "cell_type": "markdown",
   "id": "ea37c100",
   "metadata": {},
   "source": [
    "## Element Wise Multiplication"
   ]
  },
  {
   "cell_type": "code",
   "execution_count": 6,
   "id": "a047e585",
   "metadata": {},
   "outputs": [
    {
     "name": "stdout",
     "output_type": "stream",
     "text": [
      "[[0 4]\n",
      " [9 8]]\n"
     ]
    }
   ],
   "source": [
    "A = np.array([[1,2],\n",
    "              [3,4]])\n",
    "\n",
    "B = np.array([[0,2],\n",
    "              [3,2]])\n",
    "\n",
    "print(A*B)"
   ]
  },
  {
   "cell_type": "code",
   "execution_count": null,
   "id": "5859227f",
   "metadata": {},
   "outputs": [],
   "source": []
  },
  {
   "cell_type": "markdown",
   "id": "e5dc7d3d",
   "metadata": {},
   "source": [
    "## Determinants\n",
    "\n",
    "More Operations on Matrices - https://numpy.org/doc/stable/reference/routines.linalg.html"
   ]
  },
  {
   "cell_type": "code",
   "execution_count": 2,
   "id": "68075f1d",
   "metadata": {},
   "outputs": [
    {
     "data": {
      "text/plain": [
       "-2.0000000000000004"
      ]
     },
     "execution_count": 2,
     "metadata": {},
     "output_type": "execute_result"
    }
   ],
   "source": [
    "import numpy as np\n",
    "A = np.array([[1,2],\n",
    "            [3,4]])\n",
    "\n",
    "np.linalg.det(A)"
   ]
  },
  {
   "cell_type": "markdown",
   "id": "84efe96c",
   "metadata": {},
   "source": [
    "## Inverse"
   ]
  },
  {
   "cell_type": "code",
   "execution_count": 6,
   "id": "e63c8608",
   "metadata": {},
   "outputs": [
    {
     "data": {
      "text/plain": [
       "array([[-2. ,  1. ],\n",
       "       [ 1.5, -0.5]])"
      ]
     },
     "execution_count": 6,
     "metadata": {},
     "output_type": "execute_result"
    }
   ],
   "source": [
    "np.linalg.inv(A)\n"
   ]
  },
  {
   "cell_type": "markdown",
   "id": "32a3b45d",
   "metadata": {},
   "source": [
    "## Solve a System of Equations\n",
    "\n",
    "https://numpy.org/doc/stable/reference/generated/numpy.linalg.solve.html#numpy.linalg.solve"
   ]
  },
  {
   "cell_type": "code",
   "execution_count": 7,
   "id": "3bb08814",
   "metadata": {},
   "outputs": [],
   "source": [
    "a = np.array([[2,3],[3,1]])\n",
    "b = np.array([8,5])"
   ]
  },
  {
   "cell_type": "code",
   "execution_count": 8,
   "id": "5c06c9a0",
   "metadata": {},
   "outputs": [
    {
     "data": {
      "text/plain": [
       "array([1., 2.])"
      ]
     },
     "execution_count": 8,
     "metadata": {},
     "output_type": "execute_result"
    }
   ],
   "source": [
    "np.linalg.solve(a,b)"
   ]
  },
  {
   "cell_type": "code",
   "execution_count": null,
   "id": "45aa94f8",
   "metadata": {},
   "outputs": [],
   "source": []
  }
 ],
 "metadata": {
  "kernelspec": {
   "display_name": "Python 3",
   "language": "python",
   "name": "python3"
  },
  "language_info": {
   "codemirror_mode": {
    "name": "ipython",
    "version": 3
   },
   "file_extension": ".py",
   "mimetype": "text/x-python",
   "name": "python",
   "nbconvert_exporter": "python",
   "pygments_lexer": "ipython3",
   "version": "3.9.2"
  }
 },
 "nbformat": 4,
 "nbformat_minor": 5
}
